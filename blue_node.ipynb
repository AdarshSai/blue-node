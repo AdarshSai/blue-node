{
 "cells": [
  {
   "cell_type": "code",
   "execution_count": 21,
   "metadata": {},
   "outputs": [],
   "source": [
    "\n",
    "# read files for standard_defnition \n",
    "import json\n",
    "\n",
    "# read file\n",
    "with open(r'C:\\Users\\Adarsh\\Documents\\Downloads\\standard_definition.json' ) as myfile:\n",
    "    data=myfile.read()\n",
    "\n",
    "# parse file\n",
    "obj = json.loads(data)\n",
    "\n",
    "client_json = json.dumps(obj)\n"
   ]
  },
  {
   "cell_type": "code",
   "execution_count": 22,
   "metadata": {},
   "outputs": [],
   "source": [
    "#read files for error codes\n",
    "import json\n",
    "\n",
    "# read file\n",
    "with open(r'C:\\Users\\Adarsh\\Documents\\Downloads\\error_codes.json' ) as myfile:\n",
    "    data=myfile.read()\n",
    "\n",
    "# parse file\n",
    "obj = json.loads(data)\n",
    "\n",
    "error_json = json.dumps(obj)\n"
   ]
  },
  {
   "cell_type": "code",
   "execution_count": 53,
   "metadata": {},
   "outputs": [
    {
     "data": {
      "text/plain": [
       "'[{\"code\": \"E01\", \"message_template\": \"LXY field under segment LX passes all the validation criteria.\"}, {\"code\": \"E02\", \"message_template\": \"LXY field under section LX fails the data type (expected: {data_type}) validation, however it passes the max length ({max_length}) validation\"}, {\"code\": \"E03\", \"message_template\": \"LXY field under section LX fails the max length (expected: {data_type}) validation, however it passes the data type ({data_type}) validation\"}, {\"code\": \"E04\", \"message_template\": \"LXY field under section LX fails all the validation criteria.\"}, {\"code\": \"E05\", \"message_template\": \"LXY field under section LX is missing.\"}]'"
      ]
     },
     "execution_count": 53,
     "metadata": {},
     "output_type": "execute_result"
    }
   ],
   "source": [
    "# content of error json\n",
    "error_json"
   ]
  },
  {
   "cell_type": "code",
   "execution_count": 30,
   "metadata": {},
   "outputs": [
    {
     "data": {
      "text/plain": [
       "'[{\"key\": \"L1\", \"sub_sections\": [{\"key\": \"L11\", \"data_type\": \"digits\", \"max_length\": 1}, {\"key\": \"L12\", \"data_type\": \"word_characters\", \"max_length\": 3}, {\"key\": \"L13\", \"data_type\": \"word_characters\", \"max_length\": 2}]}, {\"key\": \"L2\", \"sub_sections\": [{\"key\": \"L21\", \"data_type\": \"word_characters\", \"max_length\": 1}, {\"key\": \"L22\", \"data_type\": \"digits\", \"max_length\": 1}, {\"key\": \"L23\", \"data_type\": \"word_characters\", \"max_length\": 2}]}, {\"key\": \"L3\", \"sub_sections\": [{\"key\": \"L31\", \"data_type\": \"word_characters\", \"max_length\": 1}]}, {\"key\": \"L4\", \"sub_sections\": [{\"key\": \"L41\", \"data_type\": \"word_characters\", \"max_length\": 1}, {\"key\": \"L42\", \"data_type\": \"digits\", \"max_length\": 6}]}]'"
      ]
     },
     "execution_count": 30,
     "metadata": {},
     "output_type": "execute_result"
    }
   ],
   "source": [
    "# content of client JSON\n",
    "client_json"
   ]
  },
  {
   "cell_type": "code",
   "execution_count": 35,
   "metadata": {},
   "outputs": [],
   "source": [
    "# data_type parser schema\n",
    "def parse_data_type(var, data_type, max_Length):\n",
    "    print(var,data_type,max_Length)\n",
    "    if(data_type=='digits'):\n",
    "        try:\n",
    "            if(isinstance(int(var), int)):\n",
    "                if(len(str(var))<=max_Length):\n",
    "                    return 'E01'\n",
    "                else:\n",
    "                    return 'E03'\n",
    "            \n",
    "        except:\n",
    "            if(len(str(var))<=max_Length):\n",
    "                return 'E02'\n",
    "            else:\n",
    "                return 'E04'\n",
    "\n",
    "    if(data_type=='word_characters'):\n",
    "         if(var.isalpha()):\n",
    "            if(len(str(var))<=max_Length):\n",
    "                return 'E01'\n",
    "            else:\n",
    "                return 'E03'\n",
    "         else:\n",
    "            if(len(str(var))<=max_Length):\n",
    "                return 'E02'\n",
    "            else:\n",
    "                return 'E04'\n",
    "    else:\n",
    "        print('its here')\n",
    "        return False\n",
    "    "
   ]
  },
  {
   "cell_type": "code",
   "execution_count": 95,
   "metadata": {},
   "outputs": [],
   "source": [
    "def hasNumbers(inputString):\n",
    "    return any(char.isdigit() for char in inputString)"
   ]
  },
  {
   "cell_type": "code",
   "execution_count": 99,
   "metadata": {
    "scrolled": true
   },
   "outputs": [
    {
     "name": "stdout",
     "output_type": "stream",
     "text": [
      "['L1', '1', 'AB']\n",
      "0 0\n",
      "1 digits 1\n",
      "E01 L11 field under segment L1 passes all the validation criteria.\n",
      "0 1\n",
      "AB word_characters 3\n",
      "E01 L12 field under segment L1 passes all the validation criteria.\n",
      "['L2', 'NB', '2', '34']\n",
      "1 0\n",
      "NB word_characters 1\n",
      "E03 L21 field under section L2 fails the max length (expected: {data_type}) validation, however it passes the data type ({data_type}) validation\n",
      "1 1\n",
      "2 digits 1\n",
      "E01 L22 field under segment L2 passes all the validation criteria.\n",
      "['L1', 'BC', 'WX YZ']\n",
      "0 0\n",
      "BC digits 1\n",
      "E04 L11 field under section L1 fails all the validation criteria.\n",
      "0 1\n",
      "WX YZ word_characters 3\n",
      "E04 L12 field under section L1 fails all the validation criteria.\n",
      "['L3', '.']\n",
      "2 0\n",
      ". word_characters 1\n",
      "E02 L31 field under section L3 fails the data type (expected: {data_type}) validation, however it passes the max length ({max_length}) validation\n",
      "['L4', '', '12042020', '']\n",
      "3 1\n",
      "12042020 digits 6\n",
      "E03 L42 field under section L4 fails the max length (expected: {data_type}) validation, however it passes the data type ({data_type}) validation\n",
      "['L3', '.']\n",
      "2 0\n",
      ". word_characters 1\n",
      "E02 L31 field under section L3 fails the data type (expected: {data_type}) validation, however it passes the max length ({max_length}) validation\n"
     ]
    }
   ],
   "source": [
    "#fair copy of computation, validation of json\n",
    "\n",
    "import simplejson;\n",
    "\n",
    "f = open(r'C:\\Users\\Adarsh\\Documents\\Downloads\\input_file.txt')\n",
    "il = 0\n",
    "\n",
    "import csv\n",
    "with open('json_result.csv', 'w', newline='') as file:\n",
    "    writer = csv.writer(file)\n",
    "    \n",
    "\n",
    "li=[]\n",
    "li.append([\"Section\" ,\"Sub-Section\" ,\"Given DataType\" ,\"Expected DataType\" ,\n",
    "           \"Given Length\", \"Expected MaxLength\", \"Error Code\"\n",
    "])\n",
    "amp_cnt=0\n",
    "for i in f.readlines():\n",
    "    i=i.strip('\\n')\n",
    "    i_list = list(i.split('&'))\n",
    "    print(i_list)\n",
    "    for j in range(0,len(i_list)):    \n",
    "        if (isinstance(i_list[j],str) == True):\n",
    "            for il in range(0,len(simplejson.loads(client_json))):\n",
    "                if(i_list[j]==simplejson.loads(client_json)[il]['key']):\n",
    "                    for k in range(0,len(i_list)):\n",
    "                        l=k+1\n",
    "                        if(l>=len(i_list)):\n",
    "                            break\n",
    "                        if(i_list[l]==''):\n",
    "                            #print('True')\n",
    "                            s='E05'\n",
    "                            if(k<(len(simplejson.loads(client_json)[0]['sub_sections'])-1)):\n",
    "                                if(hasNumbers(i_list[l])):\n",
    "                                    data_type='digits'\n",
    "                                else:\n",
    "                                    data_type='word_characters'\n",
    "                                li.append([simplejson.loads(client_json)[il]['key'],'L'+str(il+1)+str(k+1),\n",
    "                                        str(simplejson.loads(client_json)[il]['sub_sections'][k]['data_type']),data_type,\n",
    "                                        simplejson.loads(client_json)[il]['sub_sections'][k]['max_length'],len(i_list[l]),s])\n",
    "                            continue\n",
    "                            print(amp_cnt)\n",
    "                        if(k<(len(simplejson.loads(client_json)[0]['sub_sections'])-1)):\n",
    "                            print(il,k)\n",
    "                            s=parse_data_type(i_list[l], str(simplejson.loads(client_json)[il]['sub_sections'][k]['data_type'])\n",
    "                            , simplejson.loads(client_json)[il]['sub_sections'][k]['max_length'])\n",
    "                            amp_cnt=0\n",
    "                        #print(il+1,k+1)\n",
    "                        for a in range(0,len(simplejson.loads(error_json))):\n",
    "                            if(s==simplejson.loads(error_json)[a]['code']):\n",
    "                                res=simplejson.loads(error_json)[a]['message_template'].replace('X',str(il+1))\n",
    "                                res=res.replace('Y',str(k+1))\n",
    "                                print(s,res)\n",
    "                                if(hasNumbers(i_list[l])):\n",
    "                                    data_type='digits'\n",
    "                                else:\n",
    "                                    data_type='word_characters'\n",
    "                                li.append([simplejson.loads(client_json)[il]['key'],'L'+str(il+1)+str(k+1),\n",
    "                                        str(simplejson.loads(client_json)[il]['sub_sections'][k]['data_type']),data_type,\n",
    "                                        simplejson.loads(client_json)[il]['sub_sections'][k]['max_length'],len(i_list[l]),s])\n",
    "                else:\n",
    "                    continue\n",
    "  "
   ]
  },
  {
   "cell_type": "code",
   "execution_count": 104,
   "metadata": {},
   "outputs": [
    {
     "name": "stdout",
     "output_type": "stream",
     "text": [
      "Section             Sub-Section         Given DataType      Expected DataType   Given Length        Expected MaxLength  Error Code          \n",
      "L1                  L11                 digits              digits              1                   1                   E01                 \n",
      "L1                  L12                 word_characters     word_characters     3                   2                   E01                 \n",
      "L2                  L21                 word_characters     word_characters     1                   2                   E03                 \n",
      "L2                  L22                 digits              digits              1                   1                   E01                 \n",
      "L1                  L11                 digits              word_characters     1                   2                   E04                 \n",
      "L1                  L12                 word_characters     word_characters     3                   5                   E04                 \n",
      "L3                  L31                 word_characters     word_characters     1                   1                   E02                 \n",
      "L4                  L41                 word_characters     word_characters     1                   0                   E05                 \n",
      "L4                  L42                 digits              digits              6                   8                   E03                 \n",
      "L3                  L31                 word_characters     word_characters     1                   1                   E02                 \n"
     ]
    }
   ],
   "source": [
    "#Table Format o/p printing\n",
    "li\n",
    "length_list = [len(str(element)) for row in li for element in row]\n",
    "column_width = max(length_list)\n",
    "for row in li:\n",
    "    row = \"\".join(str(element).ljust(column_width + 2) for element in row)\n",
    "    print(row)"
   ]
  },
  {
   "cell_type": "code",
   "execution_count": null,
   "metadata": {},
   "outputs": [],
   "source": []
  }
 ],
 "metadata": {
  "kernelspec": {
   "display_name": "Python 3",
   "language": "python",
   "name": "python3"
  },
  "language_info": {
   "codemirror_mode": {
    "name": "ipython",
    "version": 3
   },
   "file_extension": ".py",
   "mimetype": "text/x-python",
   "name": "python",
   "nbconvert_exporter": "python",
   "pygments_lexer": "ipython3",
   "version": "3.7.4"
  }
 },
 "nbformat": 4,
 "nbformat_minor": 4
}
